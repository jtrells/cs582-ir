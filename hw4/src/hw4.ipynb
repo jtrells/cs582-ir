{
 "cells": [
  {
   "cell_type": "code",
   "execution_count": 1,
   "metadata": {},
   "outputs": [
    {
     "name": "stdout",
     "output_type": "stream",
     "text": [
      "end\n"
     ]
    }
   ],
   "source": [
    "from AbstractProcessor import TextProcessor\n",
    "from TextRank import TextRank\n",
    "\n",
    "full_doc_path = 'D:\\\\_dev\\\\cs582-ir\\\\hw4\\\\www\\\\abstracts\\\\183'"
   ]
  },
  {
   "cell_type": "code",
   "execution_count": 2,
   "metadata": {},
   "outputs": [
    {
     "name": "stdout",
     "output_type": "stream",
     "text": [
      "['algorithm', 'peer', 'number', 'download', 'uniqu', 'simul', 'secur', 'network', 'power', 'system', 'file-shar', 'self-repl', 'manag', 'attempt', 'mean', 'natur', 'open', 'much', 'malici', 'condit', 'global', 'trust', 'experi', 'histori', 'ideal', 'p2p', 'reput', 'isol', 'file', 'peer-to-p', 'valu', 'inauthent', 'attent', 'varieti', 'method', 'eigentrust', 'recent', 'inform', 'show', 'iter', 'upload', 'environ', 'anonym', 'spread']\n"
     ]
    }
   ],
   "source": [
    "tp = TextProcessor(full_doc_path)"
   ]
  },
  {
   "cell_type": "code",
   "execution_count": 3,
   "metadata": {},
   "outputs": [
    {
     "data": {
      "text/plain": [
       "{'algorithm': 0,\n",
       " 'anonym': 42,\n",
       " 'attempt': 13,\n",
       " 'attent': 32,\n",
       " 'condit': 19,\n",
       " 'download': 3,\n",
       " 'eigentrust': 35,\n",
       " 'environ': 41,\n",
       " 'experi': 22,\n",
       " 'file': 28,\n",
       " 'file-shar': 10,\n",
       " 'global': 20,\n",
       " 'histori': 23,\n",
       " 'ideal': 24,\n",
       " 'inauthent': 31,\n",
       " 'inform': 37,\n",
       " 'isol': 27,\n",
       " 'iter': 39,\n",
       " 'malici': 18,\n",
       " 'manag': 12,\n",
       " 'mean': 14,\n",
       " 'method': 34,\n",
       " 'much': 17,\n",
       " 'natur': 15,\n",
       " 'network': 7,\n",
       " 'number': 2,\n",
       " 'open': 16,\n",
       " 'p2p': 25,\n",
       " 'peer': 1,\n",
       " 'peer-to-p': 29,\n",
       " 'power': 8,\n",
       " 'recent': 36,\n",
       " 'reput': 26,\n",
       " 'secur': 6,\n",
       " 'self-repl': 11,\n",
       " 'show': 38,\n",
       " 'simul': 5,\n",
       " 'spread': 43,\n",
       " 'system': 9,\n",
       " 'trust': 21,\n",
       " 'uniqu': 4,\n",
       " 'upload': 40,\n",
       " 'valu': 30,\n",
       " 'varieti': 33}"
      ]
     },
     "execution_count": 3,
     "metadata": {},
     "output_type": "execute_result"
    }
   ],
   "source": [
    "tp.word_graph.m_header"
   ]
  },
  {
   "cell_type": "code",
   "execution_count": 4,
   "metadata": {},
   "outputs": [
    {
     "data": {
      "text/plain": [
       "{'algorithm',\n",
       " 'anonym',\n",
       " 'attempt',\n",
       " 'attent',\n",
       " 'condit',\n",
       " 'download',\n",
       " 'eigentrust',\n",
       " 'environ',\n",
       " 'experi',\n",
       " 'file',\n",
       " 'file-shar',\n",
       " 'global',\n",
       " 'histori',\n",
       " 'ideal',\n",
       " 'inauthent',\n",
       " 'inform',\n",
       " 'isol',\n",
       " 'iter',\n",
       " 'malici',\n",
       " 'manag',\n",
       " 'mean',\n",
       " 'method',\n",
       " 'much',\n",
       " 'natur',\n",
       " 'network',\n",
       " 'number',\n",
       " 'open',\n",
       " 'p2p',\n",
       " 'peer',\n",
       " 'peer-to-p',\n",
       " 'power',\n",
       " 'recent',\n",
       " 'reput',\n",
       " 'secur',\n",
       " 'self-repl',\n",
       " 'show',\n",
       " 'simul',\n",
       " 'spread',\n",
       " 'system',\n",
       " 'trust',\n",
       " 'uniqu',\n",
       " 'upload',\n",
       " 'valu',\n",
       " 'varieti'}"
      ]
     },
     "execution_count": 4,
     "metadata": {},
     "output_type": "execute_result"
    }
   ],
   "source": [
    "tp.get_unigrams()"
   ]
  },
  {
   "cell_type": "code",
   "execution_count": 6,
   "metadata": {},
   "outputs": [
    {
     "data": {
      "text/plain": [
       "44"
      ]
     },
     "execution_count": 6,
     "metadata": {},
     "output_type": "execute_result"
    }
   ],
   "source": [
    "len(tp.get_n_grams(1))"
   ]
  },
  {
   "cell_type": "code",
   "execution_count": 6,
   "metadata": {},
   "outputs": [
    {
     "data": {
      "text/plain": [
       "{'global trust valu',\n",
       " 'network peer-to-p file-shar',\n",
       " 'p2p network peer-to-p',\n",
       " 'peer-to-p file-shar network',\n",
       " 'recent experi show',\n",
       " 'self-repl inauthent file',\n",
       " 'uniqu global trust'}"
      ]
     },
     "execution_count": 6,
     "metadata": {},
     "output_type": "execute_result"
    }
   ],
   "source": [
    "tp.get_trigrams()"
   ]
  },
  {
   "cell_type": "code",
   "execution_count": 8,
   "metadata": {},
   "outputs": [
    {
     "data": {
      "text/plain": [
       "{'eigentrust algorithm',\n",
       " 'experi show',\n",
       " 'file-shar network',\n",
       " 'global trust',\n",
       " 'ideal environ',\n",
       " 'inauthent file',\n",
       " 'malici peer',\n",
       " 'much attent',\n",
       " 'network peer-to-p',\n",
       " 'open natur',\n",
       " 'p2p network',\n",
       " 'peer-to-p file-shar',\n",
       " 'power iter',\n",
       " 'recent experi',\n",
       " 'reput manag',\n",
       " 'reput system',\n",
       " 'secur method',\n",
       " 'self-repl inauthent',\n",
       " 'trust valu',\n",
       " 'uniqu global'}"
      ]
     },
     "execution_count": 8,
     "metadata": {},
     "output_type": "execute_result"
    }
   ],
   "source": [
    "tp.get_n_grams(2)"
   ]
  },
  {
   "cell_type": "code",
   "execution_count": 28,
   "metadata": {},
   "outputs": [
    {
     "data": {
      "text/plain": [
       "array([[ 1.],\n",
       "       [ 1.],\n",
       "       [ 6.],\n",
       "       [ 1.],\n",
       "       [ 4.],\n",
       "       [ 1.],\n",
       "       [ 3.],\n",
       "       [ 2.],\n",
       "       [ 1.],\n",
       "       [ 1.],\n",
       "       [ 1.],\n",
       "       [ 1.],\n",
       "       [ 3.],\n",
       "       [ 1.],\n",
       "       [ 1.],\n",
       "       [ 1.],\n",
       "       [ 1.],\n",
       "       [ 1.],\n",
       "       [ 4.],\n",
       "       [ 1.],\n",
       "       [ 1.],\n",
       "       [ 1.],\n",
       "       [ 1.],\n",
       "       [ 1.],\n",
       "       [ 1.],\n",
       "       [ 1.],\n",
       "       [ 1.],\n",
       "       [ 4.],\n",
       "       [ 1.],\n",
       "       [ 1.],\n",
       "       [ 2.],\n",
       "       [ 1.],\n",
       "       [ 1.],\n",
       "       [ 1.],\n",
       "       [ 1.],\n",
       "       [ 1.],\n",
       "       [ 1.],\n",
       "       [ 2.],\n",
       "       [ 1.],\n",
       "       [ 1.],\n",
       "       [ 3.],\n",
       "       [ 2.],\n",
       "       [ 4.],\n",
       "       [ 1.]])"
      ]
     },
     "execution_count": 28,
     "metadata": {},
     "output_type": "execute_result"
    }
   ],
   "source": []
  },
  {
   "cell_type": "code",
   "execution_count": 9,
   "metadata": {},
   "outputs": [
    {
     "name": "stdout",
     "output_type": "stream",
     "text": [
      "first second third\n"
     ]
    }
   ],
   "source": [
    "Z = ['first', 'second', 'third']\n",
    "print(' '.join(Z))"
   ]
  },
  {
   "cell_type": "code",
   "execution_count": null,
   "metadata": {
    "collapsed": true
   },
   "outputs": [],
   "source": []
  }
 ],
 "metadata": {
  "kernelspec": {
   "display_name": "Python 3",
   "language": "python",
   "name": "python3"
  },
  "language_info": {
   "codemirror_mode": {
    "name": "ipython",
    "version": 3
   },
   "file_extension": ".py",
   "mimetype": "text/x-python",
   "name": "python",
   "nbconvert_exporter": "python",
   "pygments_lexer": "ipython3",
   "version": "3.6.1"
  }
 },
 "nbformat": 4,
 "nbformat_minor": 2
}
