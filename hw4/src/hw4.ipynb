{
 "cells": [
  {
   "cell_type": "markdown",
   "metadata": {},
   "source": [
    "# CS584 - Homework 4"
   ]
  },
  {
   "cell_type": "markdown",
   "metadata": {},
   "source": [
    "Update the path to the root of the WWW collection. The folders inside should be 'abstracts' and 'gold'"
   ]
  },
  {
   "cell_type": "code",
   "execution_count": 1,
   "metadata": {},
   "outputs": [],
   "source": [
    "from hw4 import HW4\n",
    "root = 'D:\\\\_dev\\\\cs582-ir\\\\hw4\\\\www'\n",
    "K = 10"
   ]
  },
  {
   "cell_type": "markdown",
   "metadata": {},
   "source": [
    "Ignore points, take everything as one big sentences and calculate the MRR of the collection"
   ]
  },
  {
   "cell_type": "code",
   "execution_count": 2,
   "metadata": {},
   "outputs": [
    {
     "name": "stdout",
     "output_type": "stream",
     "text": [
      "There is not gold standard for D:\\_dev\\cs582-ir\\hw4\\www\\abstracts\\137804\n",
      "There is not gold standard for D:\\_dev\\cs582-ir\\hw4\\www\\abstracts\\1840679\n",
      "There is not gold standard for D:\\_dev\\cs582-ir\\hw4\\www\\abstracts\\21521\n",
      "There is not gold standard for D:\\_dev\\cs582-ir\\hw4\\www\\abstracts\\3692283\n",
      "There is not gold standard for D:\\_dev\\cs582-ir\\hw4\\www\\abstracts\\4063058\n",
      "There is not gold standard for D:\\_dev\\cs582-ir\\hw4\\www\\abstracts\\4280322\n",
      "There is not gold standard for D:\\_dev\\cs582-ir\\hw4\\www\\abstracts\\5960933\n",
      "There is not gold standard for D:\\_dev\\cs582-ir\\hw4\\www\\abstracts\\6094\n",
      "There is not gold standard for D:\\_dev\\cs582-ir\\hw4\\www\\abstracts\\687710\n",
      "There is not gold standard for D:\\_dev\\cs582-ir\\hw4\\www\\abstracts\\8929962\n",
      "There is not gold standard for D:\\_dev\\cs582-ir\\hw4\\www\\abstracts\\8969232\n",
      "There is not gold standard for D:\\_dev\\cs582-ir\\hw4\\www\\abstracts\\8975983\n",
      "There is not gold standard for D:\\_dev\\cs582-ir\\hw4\\www\\abstracts\\9266154\n",
      "There is not gold standard for D:\\_dev\\cs582-ir\\hw4\\www\\abstracts\\93077\n",
      "There is not gold standard for D:\\_dev\\cs582-ir\\hw4\\www\\abstracts\\958328\n",
      "There is not gold standard for D:\\_dev\\cs582-ir\\hw4\\www\\abstracts\\9864470\n",
      "There is not gold standard for D:\\_dev\\cs582-ir\\hw4\\www\\abstracts\\abstract\n"
     ]
    }
   ],
   "source": [
    "ignore_new_lines = True\n",
    "hw4_ignore = HW4(root, ignore_new_lines)\n",
    "MRRS_ignore = hw4_ignore.calculate_mrrs(K)"
   ]
  },
  {
   "cell_type": "markdown",
   "metadata": {},
   "source": [
    "Take into account the sentences in the abstract and calculate the MRR of the collection"
   ]
  },
  {
   "cell_type": "code",
   "execution_count": 3,
   "metadata": {},
   "outputs": [
    {
     "name": "stdout",
     "output_type": "stream",
     "text": [
      "There is not gold standard for D:\\_dev\\cs582-ir\\hw4\\www\\abstracts\\137804\n",
      "There is not gold standard for D:\\_dev\\cs582-ir\\hw4\\www\\abstracts\\1840679\n",
      "There is not gold standard for D:\\_dev\\cs582-ir\\hw4\\www\\abstracts\\21521\n",
      "There is not gold standard for D:\\_dev\\cs582-ir\\hw4\\www\\abstracts\\3692283\n",
      "There is not gold standard for D:\\_dev\\cs582-ir\\hw4\\www\\abstracts\\4063058\n",
      "There is not gold standard for D:\\_dev\\cs582-ir\\hw4\\www\\abstracts\\4280322\n",
      "There is not gold standard for D:\\_dev\\cs582-ir\\hw4\\www\\abstracts\\5960933\n",
      "There is not gold standard for D:\\_dev\\cs582-ir\\hw4\\www\\abstracts\\6094\n",
      "There is not gold standard for D:\\_dev\\cs582-ir\\hw4\\www\\abstracts\\687710\n",
      "There is not gold standard for D:\\_dev\\cs582-ir\\hw4\\www\\abstracts\\8929962\n",
      "There is not gold standard for D:\\_dev\\cs582-ir\\hw4\\www\\abstracts\\8969232\n",
      "There is not gold standard for D:\\_dev\\cs582-ir\\hw4\\www\\abstracts\\8975983\n",
      "There is not gold standard for D:\\_dev\\cs582-ir\\hw4\\www\\abstracts\\9266154\n",
      "There is not gold standard for D:\\_dev\\cs582-ir\\hw4\\www\\abstracts\\93077\n",
      "There is not gold standard for D:\\_dev\\cs582-ir\\hw4\\www\\abstracts\\958328\n",
      "There is not gold standard for D:\\_dev\\cs582-ir\\hw4\\www\\abstracts\\9864470\n",
      "There is not gold standard for D:\\_dev\\cs582-ir\\hw4\\www\\abstracts\\abstract\n"
     ]
    }
   ],
   "source": [
    "ignore_new_lines = False\n",
    "hw4_dont_ignore = HW4(root, ignore_new_lines)\n",
    "MRRS_dont_ignore = hw4_dont_ignore.calculate_mrrs(K)"
   ]
  },
  {
   "cell_type": "code",
   "execution_count": 5,
   "metadata": {},
   "outputs": [
    {
     "data": {
      "text/plain": [
       "<matplotlib.text.Text at 0x23e8602c390>"
      ]
     },
     "execution_count": 5,
     "metadata": {},
     "output_type": "execute_result"
    },
    {
     "data": {
      "image/png": "[encoded data removed]",
      "text/plain": [
       "<matplotlib.figure.Figure at 0x23e8565a7f0>"
      ]
     },
     "metadata": {},
     "output_type": "display_data"
    }
   ],
   "source": [
    "import matplotlib.pyplot as plt\n",
    "import numpy as np\n",
    "%matplotlib inline \n",
    "x = np.array([1, 2, 3, 4, 5, 6, 7, 8, 9, 10])\n",
    "plt.plot(x, MRRS_ignore, 'o-')\n",
    "plt.plot(x, MRRS_dont_ignore, 'x-')\n",
    "plt.title('MRR for WWW Collection')\n",
    "plt.xlabel('k')\n",
    "plt.ylabel('MRR')"
   ]
  },
  {
   "cell_type": "markdown",
   "metadata": {},
   "source": [
    "For this collection, ignoring the point in the sentences to build the n_grams or not gives almost the same results. "
   ]
  },
  {
   "cell_type": "code",
   "execution_count": 6,
   "metadata": {},
   "outputs": [
    {
     "data": {
      "text/plain": [
       "array([ 0.0518797 ,  0.08082707,  0.10112782,  0.11785714,  0.1312406 ,\n",
       "        0.14036341,  0.14649481,  0.1490503 ,  0.1519534 ,  0.15022228])"
      ]
     },
     "execution_count": 6,
     "metadata": {},
     "output_type": "execute_result"
    }
   ],
   "source": [
    "MRRS_ignore"
   ]
  },
  {
   "cell_type": "code",
   "execution_count": 7,
   "metadata": {},
   "outputs": [
    {
     "data": {
      "text/plain": [
       "array([ 0.0518797 ,  0.08007519,  0.09937343,  0.11723058,  0.13031328,\n",
       "        0.14006266,  0.14544218,  0.14837361,  0.15144379,  0.14978786])"
      ]
     },
     "execution_count": 7,
     "metadata": {},
     "output_type": "execute_result"
    }
   ],
   "source": [
    "MRRS_dont_ignore"
   ]
  },
  {
   "cell_type": "code",
   "execution_count": null,
   "metadata": {
    "collapsed": true
   },
   "outputs": [],
   "source": []
  }
 ],
 "metadata": {
  "kernelspec": {
   "display_name": "Python 3",
   "language": "python",
   "name": "python3"
  },
  "language_info": {
   "codemirror_mode": {
    "name": "ipython",
    "version": 3
   },
   "file_extension": ".py",
   "mimetype": "text/x-python",
   "name": "python",
   "nbconvert_exporter": "python",
   "pygments_lexer": "ipython3",
   "version": "3.6.1"
  }
 },
 "nbformat": 4,
 "nbformat_minor": 2
}
