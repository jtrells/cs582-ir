{
 "cells": [
  {
   "cell_type": "code",
   "execution_count": 1,
   "metadata": {
    "collapsed": true
   },
   "outputs": [],
   "source": [
    "import numpy as np"
   ]
  },
  {
   "cell_type": "code",
   "execution_count": 2,
   "metadata": {
    "collapsed": true
   },
   "outputs": [],
   "source": [
    "A = np.zeros((3,3))"
   ]
  },
  {
   "cell_type": "code",
   "execution_count": 3,
   "metadata": {},
   "outputs": [
    {
     "data": {
      "text/plain": [
       "array([[ 0.,  0.,  0.],\n",
       "       [ 0.,  0.,  0.],\n",
       "       [ 0.,  0.,  0.]])"
      ]
     },
     "execution_count": 3,
     "metadata": {},
     "output_type": "execute_result"
    }
   ],
   "source": [
    "A"
   ]
  },
  {
   "cell_type": "code",
   "execution_count": 4,
   "metadata": {
    "collapsed": true
   },
   "outputs": [],
   "source": [
    "# G(V,E) with a matrix representation\n",
    "class G:\n",
    "    def __init__(self, n):\n",
    "        self.V = n\n",
    "        self.M = np.zeros((n,n))"
   ]
  },
  {
   "cell_type": "code",
   "execution_count": 54,
   "metadata": {
    "collapsed": true
   },
   "outputs": [],
   "source": [
    "g = G(8)"
   ]
  },
  {
   "cell_type": "code",
   "execution_count": 55,
   "metadata": {
    "collapsed": true
   },
   "outputs": [],
   "source": [
    "g.M[0][1] = 1\n",
    "g.M[0][2] = 1\n",
    "g.M[1][3] = 1\n",
    "g.M[1][4] = 1\n",
    "g.M[2][5] = 1\n",
    "g.M[2][6] = 1\n",
    "g.M[3][7] = 1\n",
    "g.M[3][0] = 1\n",
    "g.M[4][7] = 1\n",
    "g.M[4][0] = 1\n",
    "g.M[5][0] = 1\n",
    "g.M[6][0] = 1\n",
    "g.M[7][0] = 1"
   ]
  },
  {
   "cell_type": "code",
   "execution_count": 81,
   "metadata": {
    "collapsed": true
   },
   "outputs": [],
   "source": [
    "# G.M stores in (i,j) the number of times both words were adjacent\n",
    "\n",
    "class TextRank:\n",
    "    def __init__(self, G, it=20, damping=0.85, tolerance=None):\n",
    "        self.n = G.V\n",
    "        self.M = G.M\n",
    "        self.it = it\n",
    "        self.tolerance=tolerance\n",
    "        self.alpha = damping\n",
    "        self.S = np.ones((1, self.n))\n",
    "        self.p = np.ones((1, self.n))\n",
    "        self.p = self.p / self.n\n",
    "    \n",
    "    def initialize(self):\n",
    "        self.S = self.S / self.n\n",
    "        M_row_sum = np.sum(self.M, 1).reshape(self.n, 1)\n",
    "        self.M_norm = self.M / M_row_sum\n",
    "    \n",
    "    def update(self):\n",
    "        S = self.alpha * np.matmul(self.S, self.M_norm) + (1 - self.alpha) * self.p\n",
    "        diff = np.sum(np.abs(S - self.S))\n",
    "        self.S = S\n",
    "        return diff\n",
    "        \n",
    "        \n",
    "    def compute(self):\n",
    "        self.initialize()\n",
    "        \n",
    "        if self.tolerance is None:\n",
    "            for i in range(self.it):\n",
    "                self.update()\n",
    "            return self.it\n",
    "        else:\n",
    "            num_iterations = 0\n",
    "            diff = float(\"inf\")\n",
    "            while diff > self.tolerance:\n",
    "                diff = self.update()\n",
    "                num_iterations += 1\n",
    "            return num_iterations\n"
   ]
  },
  {
   "cell_type": "code",
   "execution_count": null,
   "metadata": {},
   "outputs": [],
   "source": []
  },
  {
   "cell_type": "code",
   "execution_count": 82,
   "metadata": {},
   "outputs": [
    {
     "name": "stdout",
     "output_type": "stream",
     "text": [
      "0.6375\n",
      "0.541875\n",
      "0.46059375\n",
      "0.358879296875\n",
      "0.22185265625\n",
      "0.188574757812\n",
      "0.135243459119\n",
      "0.095797450209\n",
      "0.0814278326777\n",
      "0.053063804295\n",
      "0.0451042336507\n",
      "0.0363938870798\n",
      "0.0227878518146\n",
      "0.0193696740424\n",
      "0.0139476707256\n",
      "0.00973457844452\n",
      "0.00827439167784\n",
      "0.00540262305781\n",
      "0.00459222959914\n",
      "0.00372360241254\n",
      "0.00233559057931\n",
      "0.00198525199242\n",
      "0.00143721390742\n",
      "0.000988929019867\n",
      "0.000840589666887\n",
      "0.000549886560477\n",
      "0.000467403576406\n",
      "0.000380865067423\n",
      "0.000239310536321\n",
      "0.000203413955873\n",
      "0.000148043199073\n",
      "0.000100431590463\n",
      "8.53668518933e-05\n",
      "5.59509685421e-05\n",
      "4.75583232607e-05\n",
      "3.89451415858e-05\n",
      "2.4513148209e-05\n",
      "2.08361759777e-05\n",
      "1.52442169509e-05\n",
      "1.01960265772e-05\n",
      "8.66662259057e-06\n",
      "5.69124069576e-06\n",
      "4.83755459142e-06\n",
      "3.98116190989e-06\n",
      "2.51020432537e-06\n",
      "2.13367367655e-06\n",
      "1.56918300627e-06\n",
      "1.0347727902e-06\n",
      "8.79556871738e-07\n",
      "49\n"
     ]
    }
   ],
   "source": [
    "text_rank = TextRank(g, it=100, tolerance=1e-6)\n",
    "it = text_rank.compute()\n",
    "print(it)"
   ]
  },
  {
   "cell_type": "code",
   "execution_count": 21,
   "metadata": {},
   "outputs": [
    {
     "data": {
      "text/plain": [
       "array([[ 2.],\n",
       "       [ 2.],\n",
       "       [ 2.],\n",
       "       [ 2.],\n",
       "       [ 2.],\n",
       "       [ 1.],\n",
       "       [ 1.],\n",
       "       [ 1.]])"
      ]
     },
     "execution_count": 21,
     "metadata": {},
     "output_type": "execute_result"
    }
   ],
   "source": [
    "row_sum = np.sum(g.M,1).reshape(g.V, 1)\n",
    "#np.shape(row_sum)\n",
    "row_sum"
   ]
  },
  {
   "cell_type": "code",
   "execution_count": null,
   "metadata": {
    "collapsed": true
   },
   "outputs": [],
   "source": []
  },
  {
   "cell_type": "code",
   "execution_count": 36,
   "metadata": {},
   "outputs": [
    {
     "data": {
      "text/plain": [
       "array([[ 0. ,  0.5,  0.5,  0. ,  0. ,  0. ,  0. ,  0. ],\n",
       "       [ 0. ,  0. ,  0. ,  0.5,  0.5,  0. ,  0. ,  0. ],\n",
       "       [ 0. ,  0. ,  0. ,  0. ,  0. ,  0.5,  0.5,  0. ],\n",
       "       [ 0.5,  0. ,  0. ,  0. ,  0. ,  0. ,  0. ,  0.5],\n",
       "       [ 0.5,  0. ,  0. ,  0. ,  0. ,  0. ,  0. ,  0.5],\n",
       "       [ 1. ,  0. ,  0. ,  0. ,  0. ,  0. ,  0. ,  0. ],\n",
       "       [ 1. ,  0. ,  0. ,  0. ,  0. ,  0. ,  0. ,  0. ],\n",
       "       [ 1. ,  0. ,  0. ,  0. ,  0. ,  0. ,  0. ,  0. ]])"
      ]
     },
     "execution_count": 36,
     "metadata": {},
     "output_type": "execute_result"
    }
   ],
   "source": [
    "M_ = g.M / row_sum\n",
    "M_"
   ]
  },
  {
   "cell_type": "code",
   "execution_count": 27,
   "metadata": {
    "collapsed": true
   },
   "outputs": [],
   "source": [
    "S = np.ones((1, g.V))\n",
    "S = S/g.V"
   ]
  },
  {
   "cell_type": "code",
   "execution_count": 28,
   "metadata": {},
   "outputs": [
    {
     "data": {
      "text/plain": [
       "array([[ 0.125,  0.125,  0.125,  0.125,  0.125,  0.125,  0.125,  0.125]])"
      ]
     },
     "execution_count": 28,
     "metadata": {},
     "output_type": "execute_result"
    }
   ],
   "source": [
    "S"
   ]
  },
  {
   "cell_type": "code",
   "execution_count": 37,
   "metadata": {},
   "outputs": [
    {
     "data": {
      "text/plain": [
       "array([[ 0.5   ,  0.0625,  0.0625,  0.0625,  0.0625,  0.0625,  0.0625,\n",
       "         0.125 ]])"
      ]
     },
     "execution_count": 37,
     "metadata": {},
     "output_type": "execute_result"
    }
   ],
   "source": [
    "S1 = np.matmul(S, M_)\n",
    "S1"
   ]
  },
  {
   "cell_type": "code",
   "execution_count": 38,
   "metadata": {},
   "outputs": [
    {
     "data": {
      "text/plain": [
       "array([[ 0.3125 ,  0.25   ,  0.25   ,  0.03125,  0.03125,  0.03125,\n",
       "         0.03125,  0.0625 ]])"
      ]
     },
     "execution_count": 38,
     "metadata": {},
     "output_type": "execute_result"
    }
   ],
   "source": [
    "S2 = np.matmul(S1, M_)\n",
    "S2"
   ]
  },
  {
   "cell_type": "code",
   "execution_count": 46,
   "metadata": {},
   "outputs": [
    {
     "data": {
      "text/plain": [
       "80.0"
      ]
     },
     "execution_count": 46,
     "metadata": {},
     "output_type": "execute_result"
    }
   ],
   "source": [
    "2000/25"
   ]
  },
  {
   "cell_type": "code",
   "execution_count": 50,
   "metadata": {},
   "outputs": [
    {
     "data": {
      "text/plain": [
       "0.25"
      ]
     },
     "execution_count": 50,
     "metadata": {},
     "output_type": "execute_result"
    }
   ],
   "source": [
    "0.0625 * 4"
   ]
  },
  {
   "cell_type": "code",
   "execution_count": null,
   "metadata": {
    "collapsed": true
   },
   "outputs": [],
   "source": []
  }
 ],
 "metadata": {
  "kernelspec": {
   "display_name": "Python 3",
   "language": "python",
   "name": "python3"
  },
  "language_info": {
   "codemirror_mode": {
    "name": "ipython",
    "version": 3
   },
   "file_extension": ".py",
   "mimetype": "text/x-python",
   "name": "python",
   "nbconvert_exporter": "python",
   "pygments_lexer": "ipython3",
   "version": "3.6.1"
  }
 },
 "nbformat": 4,
 "nbformat_minor": 2
}
